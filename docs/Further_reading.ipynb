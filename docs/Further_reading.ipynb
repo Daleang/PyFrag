{
 "cells": [
  {
   "cell_type": "markdown",
   "metadata": {},
   "source": [
    "# Further Reading\n",
    "\n",
    "##  Generic Keywords \n",
    "Quantum chemistry packages use gaussian type orbitals (GTO) or  slater type orbitals (STO) to perform the simulation. The packages use the same standards for the basis set and it will be really handy if we can defined a \"generic\" keyword for basis sets.\n",
    "Fortunately ``qmflows`` already offers such keyword that can be used among the packages that use the same basis standard,"
   ]
  },
  {
   "cell_type": "code",
   "execution_count": null,
   "metadata": {},
   "outputs": [],
   "source": []
  },
  {
   "cell_type": "markdown",
   "metadata": {},
   "source": [
    "Internally **QMflows** will create a hierarchical structure representing basis *DZP* for the packages that can handle that basis set.\n",
    "Other generic keyowrds like: ``functional``, ``inithess``, etc. have been implemented. "
   ]
  },
  {
   "cell_type": "markdown",
   "metadata": {},
   "source": [
    "The Following table describes some of the available generic keywords and the Packages where the funcionality is implemented\n",
    "\n",
    "| Generic  Keyword        | Packages   | Description  |\n",
    "| :-------------: |:-------------:| :-----:|\n",
    "|basis | ADF, CP2K, Orca | Set the Basis set |\n",
    "|cell_angles| CP2K| Specified the angles of the unit cell|\n",
    "| cell_parameters| CP2K|  Specified the vectors of the unit cell|\n",
    "| constraint | ADF, Orca| Constrain the distance, angle or dihedral angle for a set of molecules\n",
    "|freeze| ADF, Gamess, Orca | Freeze a set of atoms indicated by their indexes or symbols|\n",
    "|functional| ADF, CP2K| Set the DFT functional |\n",
    "| inithess | ADF, Orca| Provide an initial Hessian matrix|\n",
    "| optimize| ADF, DFTB, Orca | Perform a molecular optimization|\n",
    "|selected_atoms| ADF, Gamess, Orca | Optimize the given set of atoms while keeping the rest fixed|\n",
    "| ts| ADF, DFTB, Orca | Carry out a transition state optimization|\n",
    "\n",
    "Note: **QMflows** Does not have chemical intuition and if you provide a meaningless keyword,\n",
    "like a wrong basis set it will not warm you.\n",
    "\n"
   ]
  },
  {
   "cell_type": "markdown",
   "metadata": {},
   "source": [
    "## Templates \n",
    "\n",
    "As has been shown so far,  **Settings** can be specified in two ways: generic or specific. Generic keywords represent input properties that are present in most simulation packages like a *basis set* while *specific* keywords resemble the input structure of a given package.\n",
    " \n",
    "*Generic* and *Specific* **Settings**  can express both simple and complex simulation inputs,  but it would be nice if we can pre-defined a set of templates for the most common quantum chemistry simulations like: single point calculations, geometry optimizations, transition state optimization, frequency calculations, etc.\n",
    "*qmflows* already has a pre-defined set of templates  containing some defaults that the user can modify for her/his own purpose. ``Templates`` are stored inside the ``qmflows.templates`` module and are load from *JSON* files. A JSON file is basically a nested dictionary that is translated to a ``Settings`` object by *qmflows*.\n",
    "\n",
    "Below it is shown the defaults for single point calculation"
   ]
  },
  {
   "cell_type": "code",
   "execution_count": null,
   "metadata": {},
   "outputs": [],
   "source": []
  },
  {
   "cell_type": "markdown",
   "metadata": {},
   "source": [
    "The question is then, *how I can modify a template with my own changes?*\n",
    "\n",
    "Suppose you are perfoming a bunch of  constrained *DFT* optimizations using ` ADF ` . You need first to define a basis set  and the constrains."
   ]
  },
  {
   "cell_type": "code",
   "execution_count": null,
   "metadata": {},
   "outputs": [],
   "source": []
  },
  {
   "cell_type": "markdown",
   "metadata": {},
   "source": [
    "We use two *generic*  keywords: `freeze` to indicate a constrain and `basis` to provide the basis set. Also, we introduce an specific `ADF` keywords `core = Large`.\n",
    "Now you merge your **Settings** with the correspoding template to carry out molecular geometry optimizations, using a method called `overlay`."
   ]
  },
  {
   "cell_type": "code",
   "execution_count": null,
   "metadata": {},
   "outputs": [],
   "source": []
  },
  {
   "cell_type": "markdown",
   "metadata": {},
   "source": [
    "The ``overlay`` method takes as input a template containing a default set for different packages and also takes the arguments provided by the user, as shown schematically \n",
    "<img src=\"files/merged.png\">\n",
    "\n",
    "This `overlay` method merged the defaults for a given packages (*ADF* in this case) with the input supplied by the user, always given preference to the user input\n",
    "<img src=\"files/result_merged.png\" width=\"700\">"
   ]
  },
  {
   "cell_type": "markdown",
   "metadata": {},
   "source": [
    "Below it is shown a combination of templates, generic  and specific keywords to generate the input for a ``CP2K`` job"
   ]
  },
  {
   "cell_type": "code",
   "execution_count": null,
   "metadata": {},
   "outputs": [],
   "source": []
  },
  {
   "cell_type": "markdown",
   "metadata": {},
   "source": [
    "## Molecule\n",
    "The next component to carry out a simulation is a molecular geometry.  *qmflows* offers a convinient way to read Molecular geometries using the [Plams](https://www.scm.com/doc/plams/molecule.html) library in several formats like: *xyz* , *pdb*, *mol*, etc."
   ]
  },
  {
   "cell_type": "code",
   "execution_count": 1,
   "metadata": {},
   "outputs": [],
   "source": [
    "import os"
   ]
  },
  {
   "cell_type": "markdown",
   "metadata": {},
   "source": [
    "You can also create the molecule one atom at a time"
   ]
  },
  {
   "cell_type": "code",
   "execution_count": 2,
   "metadata": {},
   "outputs": [
    {
     "name": "stdout",
     "output_type": "stream",
     "text": [
      "Hello world\n"
     ]
    }
   ],
   "source": [
    "print(\"Hello world\")"
   ]
  },
  {
   "cell_type": "markdown",
   "metadata": {},
   "source": [
    "**QMflows** Can also handle smiles as shown below"
   ]
  },
  {
   "cell_type": "code",
   "execution_count": null,
   "metadata": {},
   "outputs": [],
   "source": []
  },
  {
   "cell_type": "markdown",
   "metadata": {},
   "source": [
    "The Molecule class has an extensive functionally to carry out molecular manipulations, for a comprenhesive disccusion about it have a look at the [molecule documentation](https://www.scm.com/doc/plams/molecule.html). Also the module ``qmflows.molkit`` contains an extensive functionality to apply transformation over a molecule using the [RDKit](http://www.rdkit.org/) library."
   ]
  },
  {
   "cell_type": "markdown",
   "metadata": {},
   "source": [
    "##  Runinng a quantum mechanics simulation\n",
    "We now have our components to perform a calculation: **Settings** and **Molecule**. We can now invoke a quantum chemistry package to perform the computation,"
   ]
  },
  {
   "cell_type": "code",
   "execution_count": null,
   "metadata": {},
   "outputs": [],
   "source": []
  },
  {
   "cell_type": "markdown",
   "metadata": {},
   "source": [
    "the previous code snippet *does not execute the code immediatly*, instead the simulation is started when the user invokes the run function, as shown below\n",
    "```python\n",
    "from plams import Molecule\n",
    "from qmflows import (adf, run, Settings, templates)\n",
    "\n",
    "# Settings\n",
    "s = templates.geometry\n",
    "s.basis = \"DZP\"\n",
    "s.specific.adf.basis.core = \"Large\"\n",
    "s.freeze = [1, 2, 3]\n",
    "\n",
    "# molecule \n",
    "from plams import Molecule\n",
    "acetonitrile = Molecule(\"acetonitrile.xyz\")\n",
    "\n",
    "# Job \n",
    "optimized_mol_adf = adf(s, acetonitrile, job_name='acetonitrile_opt')\n",
    "\n",
    "# run the  job\n",
    "result = run(optimized_mol_adf.molecule, folder='acetonitrile')\n",
    "```\n",
    "\n",
    "you can run the previous script by saving it in a file called `acetonitrile_opt.py` and typing the following command in your console:\n",
    "```bash\n",
    " (qmflows)[user@int1 ~]$ python acetonitrile_opt.py\n",
    "```\n",
    "\n",
    "you will then see in your *current work directory* something similar to the following\n",
    "```bash\n",
    " (qmflows)[user@int1 ~]$ ls \n",
    " acetonitrile      acetonitrile_opt.py   cache.json   acetonitrile.xyz  \n",
    "```\n",
    "\n",
    " `acetonitrile` is the folder containing the output from the quantum package call (`ADF` in this case). The `cache.json` file contains all the information required to perform a restart, as we will explore below.\n",
    " Inside the `acetonitrile` you can find the input/output files resulting from the simulation\n",
    "```bash\n",
    " (qmflows)[user@int1 ~]$ ls acetonitrile \n",
    " acetonitrile.log  acetonitrile_opt\n",
    "\n",
    " (qmflows)[user@int1 ~]$ ls acetonitrile/acetonitrile_opt\n",
    "  acetonitrile_opt.dill  acetonitrile_opt.out  logfile  t21.N\n",
    "  acetonitrile_opt.err   acetonitrile_opt.run  t21.C\n",
    "  acetonitrile_opt.in    acetonitrile_opt.t21  t21.H\n",
    "```"
   ]
  },
  {
   "cell_type": "markdown",
   "metadata": {},
   "source": [
    "##   Extracting Properties"
   ]
  },
  {
   "cell_type": "markdown",
   "metadata": {},
   "source": [
    "In general, properties are extracted using the standard `Object.attribute` notation in python, as shown below.\n"
   ]
  },
  {
   "cell_type": "markdown",
   "metadata": {
    "collapsed": true
   },
   "source": [
    "```python\n",
    "result = optmized_mol_adf.molecule\n",
    "```"
   ]
  },
  {
   "cell_type": "markdown",
   "metadata": {},
   "source": [
    "Some of the available properties are shown in the following table,\n",
    "\n",
    "| Property        |type           | Description  |\n",
    "| :-------------: |:-------------:| :-----:|\n",
    "|dipole        | Double  | Molecular dipole mopment\n",
    "| energy      | Double | Total energy |\n",
    "| enthalpy      | Double     |  Enthalpy |\n",
    "| gradient | Numpy array |  First derivatives of the energy\n",
    "| hessian | Numpy array| Second derivative of the energy \n",
    "|molecule | Molecule | Object representing a physical entity\n",
    "| runtime | Double      |  Time spent in the simulation |\n",
    "\n",
    "On the background *QMflows* has a mechanism to read the properties from the output files and make them available inside Python."
   ]
  },
  {
   "cell_type": "markdown",
   "metadata": {},
   "source": [
    "## Communicating different packages"
   ]
  },
  {
   "cell_type": "markdown",
   "metadata": {},
   "source": [
    "We can use the previous optimized geometry for further calculations using for instance another package like *Orca* to run a frequencies calculation,"
   ]
  },
  {
   "cell_type": "code",
   "execution_count": null,
   "metadata": {},
   "outputs": [],
   "source": []
  },
  {
   "cell_type": "markdown",
   "metadata": {
    "collapsed": true
   },
   "source": [
    "The whole script is\n",
    "```python\n",
    "from qmflows import (adf, orca, run, templates, Settings)\n",
    "from plams import Molecule\n",
    "import plams\n",
    "\n",
    "def main():\n",
    "    s = templates.geometry\n",
    "    s.basis = \"DZP\"\n",
    "    s.specific.adf.basis.core = \"large\"\n",
    "\n",
    "    acetonitrile = Molecule(\"files/acetonitrile.xyz\")\n",
    "    job = adf(inp, acetonitrile)\n",
    "    optmized_mol_adf = job.molecule\n",
    "\n",
    "    s2 = Settings()\n",
    "    s2.specific.orca.main = \"freq\"\n",
    "    s2.specific.orca.basis.basis = 'sto_sz'\n",
    "    s2.specific.orca.method.functional = 'lda'\n",
    "    s2.specific.orca.method.method = 'dft'\n",
    "\n",
    "    job_freq = orca(s2, optmized_mol_adf)\n",
    "    frequencies = job_freq.frequencies\n",
    "    \n",
    "    print(run(frequencies))\n",
    "```"
   ]
  },
  {
   "cell_type": "markdown",
   "metadata": {},
   "source": [
    "Once you run the script an input file for the *ADF*  and *Orca* jobs are created. The *ADF*  input looks like"
   ]
  },
  {
   "cell_type": "markdown",
   "metadata": {},
   "source": [
    "```\n",
    "Atoms\n",
    "      1         C      2.419290      0.606560      0.000000 \n",
    "      2         C      1.671470      1.829570      0.000000 \n",
    "      3         N      1.065290      2.809960      0.000000 \n",
    "      4         H      2.000000      0.000000      1.000000 \n",
    "      5         H      2.000000      0.000000     -1.000000 \n",
    "      6         H      3.600000      0.800000      0.000000 \n",
    "End\n",
    "\n",
    "Basis\n",
    "  Type DZP\n",
    "End\n",
    "\n",
    "Constraints\n",
    "  Atom 1\n",
    "  Atom 2\n",
    "  Atom 3\n",
    "End\n",
    "\n",
    "Geometry\n",
    "  Optim cartesian\n",
    "End\n",
    "\n",
    "Integration\n",
    "  Accint 6.0\n",
    "End\n",
    "\n",
    "Scf\n",
    "  Converge 1e-06\n",
    "  Iterations 100\n",
    "End\n",
    "```"
   ]
  },
  {
   "cell_type": "markdown",
   "metadata": {},
   "source": [
    "## Running in a supercomputer\n",
    "Running in **Cartesius** or **Bazis** through the *Slurm* resource manager can be done using and script like"
   ]
  },
  {
   "cell_type": "markdown",
   "metadata": {},
   "source": [
    "```bash\n",
    "#!/bin/bash\n",
    "#SBATCH -t 00:10:00\n",
    "#SBATCH -N 1\n",
    "#SBATCH -n 8\n",
    "\n",
    "module load orca\n",
    "module load adf/2016.102\n",
    "\n",
    "source activate qmflows\n",
    "python optimization_ADF_freq_ORCA.py\n",
    "```\n",
    "\n",
    "The Slurm output looks like:"
   ]
  },
  {
   "cell_type": "code",
   "execution_count": null,
   "metadata": {},
   "outputs": [],
   "source": []
  },
  {
   "cell_type": "markdown",
   "metadata": {},
   "source": [
    "## How the run function works?\n",
    "###  A little discussion about graphs \n",
    "\n",
    "*qmflows* is meant to be used for both workflow generation and execution. When you write a python script representing a workflow you are explicitly declaring  set of computations and their dependencies. For instance the following workflow represent *ADF* and *Orca* computations of the aforementioned example. In this [graph](https://en.wikipedia.org/wiki/Graph_theory) the octagons represent quantum simulation using a package, while the ovals represent both user input or data extracted from a simulation. Finally, the arrows (called edges) represent the dependencies between all these objects.\n",
    "<img src=\"files/simple_graph.png\">\n",
    "\n",
    "**QMflows** automatically identify the dependencies between computations and run them in the correct order (if possible in parallel)."
   ]
  },
  {
   "cell_type": "markdown",
   "metadata": {},
   "source": [
    "### Restarting a simulation\n",
    "\n",
    "If you are running many computationally expensive calculations in a supercomputer, it can happen that the computations take more time than that allowed by the resource manager in your supercomputer and the workflows gets cancel.  But do not worry, you do not need to re-run all the computations. Fortunately, *QMflows* offers a mechanism to restart the workflow computations.\n",
    "\n",
    "When running a workflow you will see that *QMflows* creates a set of files called ``cache``. These files contain the information about the workflow and its calculation. **In order to restart a workflow you only need to relaunch it**, that's it!\n"
   ]
  },
  {
   "cell_type": "markdown",
   "metadata": {},
   "source": [
    "##  Advanced Examples\n",
    "###   Conditional Workflows \n",
    "```python\n",
    "from noodles import gather\n",
    "from qmflows import dftb, adf, orca, run, Settings, templates, molkit, find_first_job\n",
    "\n",
    "# This examples illustrates the possibility to use different packages interchangeably.\n",
    "# Analytical frequencies are not available for B3LYP in ADF\n",
    "# This workflow captures the resulting error and submits the same job to ORCA.\n",
    "\n",
    "# Define the condition for a successful calculation\n",
    "def is_successful(result):\n",
    "    return result.status not in [\"failed\", \"crashed\"]\n",
    "\n",
    "# Generate water molecule\n",
    "water = molkit.from_smiles('[OH2]', forcefield='mmff')\n",
    "\n",
    "# Pre-optimize the water molecule\n",
    "opt_water = dftb(\n",
    "     templates.geometry, water, job_name=\"dftb_geometry\")\n",
    "\n",
    "jobs = []\n",
    "\n",
    "# Generate freq jobs for 3 functionals\n",
    "for functional in ['pbe', 'b3lyp', 'blyp']:\n",
    "    s=Settings()\n",
    "    s.basis = 'DZ'\n",
    "    s.functional = functional\n",
    "    # Try to perform the jobs with adf or orca\n",
    "    # take result from  first successful calculation\n",
    "    freqjob = find_first_job(\n",
    "          is_successful, [adf, orca], templates.freq.overlay(s), \n",
    "          opt_water.molecule, job_name=functional)\n",
    "    jobs.append(freqjob)\n",
    "\n",
    "# Run workflow\n",
    "results = run(gather(*jobs), n_processes=1)\n",
    "```\n",
    "\n",
    "After running the above script you have a table like\n",
    "\n",
    "    pbe     1533.267   3676.165   3817.097\n",
    "    b3lyp   1515.799   3670.390   3825.813\n",
    "    blyp    1529.691   3655.573   3794.110\n"
   ]
  },
  {
   "cell_type": "markdown",
   "metadata": {},
   "source": [
    "##  Data flow\n",
    "```python\n",
    "Here is a brief introduction of the data flow in the program.\n",
    "\n",
    "(1) Set up the following information\n",
    "\n",
    "Create a result dir\n",
    "Create a video dir \n",
    "Create a html dir (stocks)\n",
    "Create a jobstate file (jobstate.txt)\n",
    "\n",
    "(2) Parce and submit job\n",
    "\n",
    "Create a job dir\n",
    "Parce job input, generate sub file to submit job\n",
    "Submit job and record job information (jobinfo.txt)\n",
    "Create a rcgeometry.xyz\n",
    "Create a jobstate file (jobstate.txt)\n",
    "\n",
    "(3) Check if new result exist \n",
    "\n",
    "Check if job is finished, if so, change “True” to “False” in jobstate.txt, and return jobstate.txt\n",
    "Check if geometry and converge changed\n",
    "Create result.txt file to record if any new result generated, if there is any change, return value.\n",
    "\n",
    "(4) Resub\n",
    "\n",
    "Initiate jobstate.txt (True or False)in both local and remote directory\n",
    "After job submittion, jobinfo(jobname) is generated.\n",
    "Each job check will generate new jobinfo. If converge and geometry is renewed, then will be returned\n",
    "If jobstate is False, then finish cycle.\n",
    "```\n",
    "<img src=\"files/code_flow.png\">"
   ]
  }
 ],
 "metadata": {
  "anaconda-cloud": {},
  "kernelspec": {
   "display_name": "Python 3",
   "language": "python",
   "name": "python3"
  },
  "language_info": {
   "codemirror_mode": {
    "name": "ipython",
    "version": 3
   },
   "file_extension": ".py",
   "mimetype": "text/x-python",
   "name": "python",
   "nbconvert_exporter": "python",
   "pygments_lexer": "ipython3",
   "version": "3.5.6"
  }
 },
 "nbformat": 4,
 "nbformat_minor": 1
}
