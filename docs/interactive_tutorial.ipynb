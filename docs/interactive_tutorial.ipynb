{
 "cells": [
  {
   "cell_type": "markdown",
   "metadata": {},
   "source": [
    "#  Basic usage tutorial \n",
    "\n",
    "## Installation\n",
    "\n",
    "For installatio, please refre to https://pyfragdocument.readthedocs.io/en/latest/install.html   "
   ]
  },
  {
   "cell_type": "markdown",
   "metadata": {},
   "source": [
    "## Job Prepration"
   ]
  },
  {
   "cell_type": "code",
   "execution_count": 2,
   "metadata": {},
   "outputs": [],
   "source": [
    "!source $PYFRAGHOME/.pyfragrc"
   ]
  },
  {
   "cell_type": "markdown",
   "metadata": {},
   "source": [
    "Before this command, the PYFRAGHOME path has to be set correctly!"
   ]
  },
  {
   "cell_type": "code",
   "execution_count": 3,
   "metadata": {},
   "outputs": [],
   "source": [
    "%mkdir pyfrag"
   ]
  },
  {
   "cell_type": "code",
   "execution_count": 4,
   "metadata": {},
   "outputs": [],
   "source": [
    "%cp $PYFRAGHOME/example/job.in ./pyfrag"
   ]
  },
  {
   "cell_type": "code",
   "execution_count": 5,
   "metadata": {},
   "outputs": [
    {
     "name": "stdout",
     "output_type": "stream",
     "text": [
      "/Users/xiaobo/Dropbox/jupyter-notebook/pyfrag\n"
     ]
    }
   ],
   "source": [
    "%cd pyfrag"
   ]
  },
  {
   "cell_type": "code",
   "execution_count": 6,
   "metadata": {},
   "outputs": [
    {
     "name": "stdout",
     "output_type": "stream",
     "text": [
      "job.in\r\n"
     ]
    }
   ],
   "source": [
    "%ls"
   ]
  },
  {
   "cell_type": "markdown",
   "metadata": {},
   "source": [
    "**Noted** For each job a new directory and a new job name should be given. Don't put more than one jobs in one directory, othervise may cause clash."
   ]
  },
  {
   "cell_type": "markdown",
   "metadata": {},
   "source": [
    "Something like this will shown if previous steps is correct. Now we are ready to start PyFrag.\n",
    "```bash\n",
    "Xiaobos-MacBook-Air:pyfrag xiaobo$ ls\n",
    "job.in\n",
    "Xiaobos-MacBook-Air:pyfrag xiaobo$ \n",
    "```"
   ]
  },
  {
   "cell_type": "markdown",
   "metadata": {},
   "source": [
    "## Input Explanation"
   ]
  },
  {
   "cell_type": "code",
   "execution_count": 7,
   "metadata": {},
   "outputs": [
    {
     "name": "stdout",
     "output_type": "stream",
     "text": [
      "JOBSUB\r\n",
      "\r\n",
      "#!/bin/bash\r\n",
      "#SBATCH -J frag_1\r\n",
      "#SBATCH -N 1\r\n",
      "#SBATCH -t 50:00\r\n",
      "#SBATCH --ntasks-per-node=24\r\n",
      "#SBATCH --partition=short\r\n",
      "#SBATCH --output=%job.stdout\r\n",
      "#SBATCH --error=%job.stdout\r\n",
      "export NSCM=24\r\n",
      "\r\n",
      "JOBSUB END\r\n",
      "\r\n",
      "\r\n",
      "ADF\r\n",
      "\r\n",
      "basis\r\n",
      "type TZ2P\r\n",
      "core Small\r\n",
      "end\r\n",
      "\r\n",
      "xc\r\n",
      "gga OPBE\r\n",
      "end\r\n",
      "\r\n",
      "relativistic SCALAR ZORA\r\n",
      "\r\n",
      "\r\n",
      "\r\n",
      "scf\r\n",
      "iterations 299\r\n",
      "converge 0.00001\r\n",
      "mixing 0.20\r\n",
      "end\r\n",
      "\r\n",
      "numericalquality verygood\r\n",
      "\r\n",
      "charge 0 0\r\n",
      "symmetry auto\r\n",
      "\r\n",
      "\r\n",
      "ADF END\r\n",
      "\r\n",
      "\r\n",
      "PyFrag\r\n",
      "\r\n",
      "fragment  2\r\n",
      "fragment  1 3 4 5 6\r\n",
      "strain    0\r\n",
      "strain   -554.09\r\n",
      "bondlength 1 6  1.09\r\n",
      "\r\n",
      "PyFrag END\r\n",
      "\r\n",
      "\r\n",
      "\r\n",
      "\r\n",
      "Geometrycoor\r\n",
      "\r\n",
      "R1: Fe-II(CO)4 + CH4\r\n",
      "Pd       0.00000000       0.00000000       0.32205546\r\n",
      "\r\n",
      "\r\n",
      "\r\n",
      "R2: CH4\r\n",
      "C       0.00000000       0.00000000      -1.93543634\r\n",
      "H      -0.96181082       0.00000000      -1.33610429\r\n",
      "H       0.00000000      -0.90063254      -2.55201285\r\n",
      "H       0.00000000       0.90063254      -2.55201285\r\n",
      "H       0.96181082       0.00000000      -1.33610429\r\n",
      "\r\n",
      "\r\n",
      "\r\n",
      "\r\n",
      "RC: Fe-II(CO)4 + CH4\r\n",
      "C       0.00000000       0.00000000      -1.93543615\r\n",
      "Pd       0.00000000       0.00000000       0.322055\r\n",
      "H      -0.96181082       0.00000000      -1.33610429\r\n",
      "H       0.00000000      -0.90063254      -2.55201285\r\n",
      "H       0.00000000       0.90063254      -2.55201285\r\n",
      "H       0.96181082       0.00000000      -1.33610429\r\n",
      "\r\n",
      "\r\n",
      "\r\n",
      "TS: Fe-II(CO)4 + CH4\r\n",
      "C      -1.74196777      -2.22087997       0.00000000\r\n",
      "Pd     -2.13750904      -0.23784341       0.00000000\r\n",
      "H      -2.80956968      -2.49954731       0.00000000\r\n",
      "H      -1.26528821      -2.62993236       0.8956767\r\n",
      "H      -1.26528821      -2.62993236      -0.895676\r\n",
      "H      -0.75509932      -0.88569836       0.00000000\r\n",
      "\r\n",
      "\r\n",
      "\r\n",
      "\r\n",
      "P: Fe-II(CO)4 + CH4\r\n",
      "C      -2.10134690      -2.41901732       0.1862099\r\n",
      "Pd      -2.73145901      -0.57025833       0.419766\r\n",
      "H      -3.88639130      -1.04648079      -0.43099501\r\n",
      "H      -2.78392696      -3.12497645       0.66994616\r\n",
      "H      -1.97386865      -2.66955518      -0.87144525\r\n",
      "H      -1.12556673      -2.41201402       0.698583\r\n",
      "\r\n",
      "\r\n",
      "\r\n",
      "Geometrycoor END\r\n"
     ]
    }
   ],
   "source": [
    "%cat job.in"
   ]
  },
  {
   "cell_type": "markdown",
   "metadata": {},
   "source": [
    "Explanation of input option!"
   ]
  },
  {
   "cell_type": "markdown",
   "metadata": {},
   "source": [
    "```python\n",
    "\n",
    "''''\n",
    "JOBSUB section is for the information passed to the remote host machine \n",
    "where the heavy computatonal job is done! It is written in the fashion of Slurm.\n",
    "''''\n",
    "JOBSUB\n",
    "\n",
    "#!/bin/bash\n",
    "#SBATCH -J frag_1\n",
    "#SBATCH -N 1\n",
    "#SBATCH -t 50:00\n",
    "#SBATCH --ntasks-per-node=24\n",
    "#SBATCH --partition=short\n",
    "#SBATCH --output=%job.stdout\n",
    "#SBATCH --error=%job.stdout\n",
    "export NSCM=24\n",
    "\n",
    "JOBSUB END\n",
    "\n",
    "''''\n",
    "Provide the parameters for a DFT calculation using ADF software.\n",
    "''''\n",
    "ADF\n",
    "\n",
    "basis\n",
    "type TZ2P\n",
    "core Small\n",
    "end\n",
    "\n",
    "xc\n",
    "gga OPBE\n",
    "end\n",
    "\n",
    "relativistic SCALAR ZORA\n",
    "\n",
    "scf\n",
    "iterations 299\n",
    "converge 0.00001\n",
    "mixing 0.20\n",
    "end\n",
    "\n",
    "numericalquality verygood\n",
    "\n",
    "charge 0 0\n",
    "symmetry auto\n",
    "\n",
    "\n",
    "ADF END\n",
    "\n",
    "''''\n",
    "Provide the parameters for an activation strain analysis.\n",
    "''''\n",
    "\n",
    "PyFrag\n",
    "\n",
    "fragment  2\n",
    "fragment  1 3 4 5 6\n",
    "strain    0\n",
    "strain   -554.09\n",
    "bondlength 1 6  1.09\n",
    "\n",
    "PyFrag END\n",
    "\n",
    "\n",
    "''''\n",
    "Guseed geometry coordinate for reactent1, reactent2, reactent complex,\n",
    "transition state and product.\n",
    "''''\n",
    "\n",
    "Geometrycoor\n",
    "\n",
    "R1: Fe-II(CO)4 + CH4\n",
    "Pd       0.00000000       0.00000000       0.32205546\n",
    "\n",
    "\n",
    "\n",
    "R2: CH4\n",
    "C       0.00000000       0.00000000      -1.93543634\n",
    "H      -0.96181082       0.00000000      -1.33610429\n",
    "H       0.00000000      -0.90063254      -2.55201285\n",
    "H       0.00000000       0.90063254      -2.55201285\n",
    "H       0.96181082       0.00000000      -1.33610429\n",
    "\n",
    "\n",
    "\n",
    "\n",
    "RC: Fe-II(CO)4 + CH4\n",
    "C       0.00000000       0.00000000      -1.93543615\n",
    "Pd       0.00000000       0.00000000       0.322055\n",
    "H      -0.96181082       0.00000000      -1.33610429\n",
    "H       0.00000000      -0.90063254      -2.55201285\n",
    "H       0.00000000       0.90063254      -2.55201285\n",
    "H       0.96181082       0.00000000      -1.33610429\n",
    "\n",
    "\n",
    "\n",
    "TS: Fe-II(CO)4 + CH4\n",
    "C      -1.74196777      -2.22087997       0.00000000\n",
    "Pd     -2.13750904      -0.23784341       0.00000000\n",
    "H      -2.80956968      -2.49954731       0.00000000\n",
    "H      -1.26528821      -2.62993236       0.8956767\n",
    "H      -1.26528821      -2.62993236      -0.895676\n",
    "H      -0.75509932      -0.88569836       0.00000000\n",
    "\n",
    "\n",
    "\n",
    "\n",
    "P: Fe-II(CO)4 + CH4\n",
    "C      -2.10134690      -2.41901732       0.1862099\n",
    "Pd      -2.73145901      -0.57025833       0.419766\n",
    "H      -3.88639130      -1.04648079      -0.43099501\n",
    "H      -2.78392696      -3.12497645       0.66994616\n",
    "H      -1.97386865      -2.66955518      -0.87144525\n",
    "H      -1.12556673      -2.41201402       0.698583\n",
    "\n",
    "\n",
    "\n",
    "Geometrycoor END\n",
    "```"
   ]
  },
  {
   "cell_type": "markdown",
   "metadata": {},
   "source": [
    "## What is QMflows?\n",
    "QMflows is a python library that enables executing complicated workflows of interdependent quantum chemical (QM) calculations in python. It aims at providing a common interface to multiple QM packages, enabling easy and systematic generation of the calculation inputs, as well as facilitating automatic analysis of the results. Furthermore it is build on top of the powerful Noodles framework for executing the calculations in parallel where possible."
   ]
  },
  {
   "cell_type": "markdown",
   "metadata": {},
   "source": [
    "## The basics: calling packages\n",
    "Currently **QMFLOWS** offers an interface with the following simulation software:\n",
    "\n",
    "* **SCM (ADF and DTFB)**\n",
    "* **CP2K**\n",
    "* **ORCA**\n",
    "* **GAMESS-US**\n",
    "* **DIRAC**\n",
    "\n",
    "### Note:\n",
    ">Please make sure that the packages you want to use in QMflows are installed and active; in most supercomputer the simulation package are available using a command like (consult your system administrator):\n",
    "\n",
    ">`load module superAwesomeQuantumPackage/3.1421`\n",
    "\n",
    "> Also some simulation packages required that you configure a *scratch* folder. For instance *Orca* requires a *SCR* folder to be defnied while *ADF* called it *SCM_TMPDIR*.\n",
    "\n",
    "\n",
    "With ``qmflows`` you can write a python script that simply calls one of the package objects \n",
    "`adf, dftb, cp2k, orca, gamess or dirac`.\n",
    "As arguments to the call, you need to provide a ``settings`` objects defining the input of a calculation, a molecular geometry, and, optionally, a job name that enables you to find back the \"raw\" data of the calculation later on.\n",
    "\n",
    "Let's see how this works:\n",
    "\n",
    "First we define a molecule, for example by reading one from an xyz file:"
   ]
  },
  {
   "cell_type": "markdown",
   "metadata": {},
   "source": [
    "Then we can perform geometry optimization on the molecule by a call to the dftb package object:"
   ]
  },
  {
   "cell_type": "markdown",
   "metadata": {},
   "source": [
    "As you can see, \"job\" is a so-called \"promised object\". It means it first needs to be \"run\" by the Noodles scheduler to return a normal python object."
   ]
  },
  {
   "cell_type": "markdown",
   "metadata": {},
   "source": [
    "We can easily retrieve the calculated properties from the DFTB calculation such as the dipole or the optimized geometry for use in subsequent calculations."
   ]
  },
  {
   "cell_type": "markdown",
   "metadata": {},
   "source": [
    "## Settings and templates\n",
    "In the above example ``templates.geometry`` was actually a predefined Settings object.\n",
    "You can define and manipulate Settings in a completely flexible manner as will be explained in this section. To facilitate combining different packages in one script, QMflows defines a set of commonly used generic keywords, which can be combined with package specific keywords, to provide maximum flexibility."
   ]
  },
  {
   "cell_type": "markdown",
   "metadata": {},
   "source": [
    "This code snippet illustrates that the ``Settings`` can be specified in two ways, using generic or specific keywords. Generic keywords represent input properties that are present in most simulation packages like a *basis set* while *specific* keywords allow the user to apply specific keywords for a package that are not in a generic dictionary."
   ]
  },
  {
   "cell_type": "markdown",
   "metadata": {},
   "source": [
    "### Expert info:\n",
    ">*Settings* are a subclass of python [dictionaries](https://docs.python.org/3.5/tutorial/datastructures.html#dictionaries) to represent herarchical structures, like\n"
   ]
  },
  {
   "cell_type": "code",
   "execution_count": 4,
   "metadata": {},
   "outputs": [
    {
     "data": {
      "image/png": "[encoded data removed]",
      "text/plain": [
       "<IPython.core.display.Image object>"
      ]
     },
     "execution_count": 4,
     "metadata": {},
     "output_type": "execute_result"
    }
   ],
   "source": [
    "from IPython.display import Image\n",
    "Image(filename=\"files/simpleTree.png\")"
   ]
  },
  {
   "cell_type": "markdown",
   "metadata": {},
   "source": [
    ">In QMflows/PLAMS multiple settings objects can be combined using the ``overlay`` function."
   ]
  },
  {
   "cell_type": "markdown",
   "metadata": {},
   "source": [
    "The *overlay* method merged the template containing default settings for geometry optimizations with different packages with the arguments provided by the user \n"
   ]
  }
 ],
 "metadata": {
  "anaconda-cloud": {},
  "kernelspec": {
   "display_name": "Python 3",
   "language": "python",
   "name": "python3"
  },
  "language_info": {
   "codemirror_mode": {
    "name": "ipython",
    "version": 3
   },
   "file_extension": ".py",
   "mimetype": "text/x-python",
   "name": "python",
   "nbconvert_exporter": "python",
   "pygments_lexer": "ipython3",
   "version": "3.5.6"
  }
 },
 "nbformat": 4,
 "nbformat_minor": 1
}
