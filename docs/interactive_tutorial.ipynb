{
 "cells": [
  {
   "cell_type": "markdown",
   "metadata": {},
   "source": [
    "#  Basic usage tutorial \n",
    "\n",
    "## Installation\n",
    "\n",
    "Please refer to [installation](https://pyfragdocument.readthedocs.io/en/latest/install.html)   "
   ]
  },
  {
   "cell_type": "markdown",
   "metadata": {},
   "source": [
    "## Job Prepration"
   ]
  },
  {
   "cell_type": "code",
   "execution_count": 6,
   "metadata": {},
   "outputs": [],
   "source": [
    "!source $PYFRAGHOME/.pyfragrc"
   ]
  },
  {
   "cell_type": "markdown",
   "metadata": {},
   "source": [
    "Before this command, the PYFRAGHOME path has to be set correctly!"
   ]
  },
  {
   "cell_type": "code",
   "execution_count": 3,
   "metadata": {},
   "outputs": [],
   "source": [
    "%mkdir pyfrag"
   ]
  },
  {
   "cell_type": "code",
   "execution_count": 4,
   "metadata": {},
   "outputs": [],
   "source": [
    "%cp $PYFRAGHOME/example/job.in ./pyfrag"
   ]
  },
  {
   "cell_type": "code",
   "execution_count": 11,
   "metadata": {},
   "outputs": [
    {
     "name": "stdout",
     "output_type": "stream",
     "text": [
      "/Users/xiaobo/Dropbox/jupyter-notebook/pyfrag\n"
     ]
    }
   ],
   "source": [
    "%cd pyfrag"
   ]
  },
  {
   "cell_type": "code",
   "execution_count": 12,
   "metadata": {},
   "outputs": [
    {
     "name": "stdout",
     "output_type": "stream",
     "text": [
      "job.in\r\n"
     ]
    }
   ],
   "source": [
    "%ls"
   ]
  },
  {
   "cell_type": "markdown",
   "metadata": {},
   "source": [
    "**Noted** For each job a new directory and a new job name should be given. Don't put more than one jobs in one directory, othervise may cause clash."
   ]
  },
  {
   "cell_type": "markdown",
   "metadata": {},
   "source": [
    "Something like this will shown if previous steps is correct. Now we are ready to start PyFrag.\n",
    "```bash\n",
    "Xiaobos-MacBook-Air:pyfrag xiaobo$ ls\n",
    "job.in\n",
    "Xiaobos-MacBook-Air:pyfrag xiaobo$ \n",
    "```"
   ]
  },
  {
   "cell_type": "markdown",
   "metadata": {},
   "source": [
    "## Input Explanation"
   ]
  },
  {
   "cell_type": "code",
   "execution_count": 7,
   "metadata": {},
   "outputs": [
    {
     "name": "stdout",
     "output_type": "stream",
     "text": [
      "JOBSUB\r\n",
      "\r\n",
      "#!/bin/bash\r\n",
      "#SBATCH -J frag_1\r\n",
      "#SBATCH -N 1\r\n",
      "#SBATCH -t 50:00\r\n",
      "#SBATCH --ntasks-per-node=24\r\n",
      "#SBATCH --partition=short\r\n",
      "#SBATCH --output=%job.stdout\r\n",
      "#SBATCH --error=%job.stdout\r\n",
      "export NSCM=24\r\n",
      "\r\n",
      "JOBSUB END\r\n",
      "\r\n",
      "\r\n",
      "ADF\r\n",
      "\r\n",
      "basis\r\n",
      "type TZ2P\r\n",
      "core Small\r\n",
      "end\r\n",
      "\r\n",
      "xc\r\n",
      "gga OPBE\r\n",
      "end\r\n",
      "\r\n",
      "relativistic SCALAR ZORA\r\n",
      "\r\n",
      "\r\n",
      "\r\n",
      "scf\r\n",
      "iterations 299\r\n",
      "converge 0.00001\r\n",
      "mixing 0.20\r\n",
      "end\r\n",
      "\r\n",
      "numericalquality verygood\r\n",
      "\r\n",
      "charge 0 0\r\n",
      "symmetry auto\r\n",
      "\r\n",
      "\r\n",
      "ADF END\r\n",
      "\r\n",
      "\r\n",
      "PyFrag\r\n",
      "\r\n",
      "fragment  2\r\n",
      "fragment  1 3 4 5 6\r\n",
      "strain    0\r\n",
      "strain   -554.09\r\n",
      "bondlength 1 6  1.09\r\n",
      "\r\n",
      "PyFrag END\r\n",
      "\r\n",
      "\r\n",
      "\r\n",
      "\r\n",
      "Geometrycoor\r\n",
      "\r\n",
      "R1: Fe-II(CO)4 + CH4\r\n",
      "Pd       0.00000000       0.00000000       0.32205546\r\n",
      "\r\n",
      "\r\n",
      "\r\n",
      "R2: CH4\r\n",
      "C       0.00000000       0.00000000      -1.93543634\r\n",
      "H      -0.96181082       0.00000000      -1.33610429\r\n",
      "H       0.00000000      -0.90063254      -2.55201285\r\n",
      "H       0.00000000       0.90063254      -2.55201285\r\n",
      "H       0.96181082       0.00000000      -1.33610429\r\n",
      "\r\n",
      "\r\n",
      "\r\n",
      "\r\n",
      "RC: Fe-II(CO)4 + CH4\r\n",
      "C       0.00000000       0.00000000      -1.93543615\r\n",
      "Pd       0.00000000       0.00000000       0.322055\r\n",
      "H      -0.96181082       0.00000000      -1.33610429\r\n",
      "H       0.00000000      -0.90063254      -2.55201285\r\n",
      "H       0.00000000       0.90063254      -2.55201285\r\n",
      "H       0.96181082       0.00000000      -1.33610429\r\n",
      "\r\n",
      "\r\n",
      "\r\n",
      "TS: Fe-II(CO)4 + CH4\r\n",
      "C      -1.74196777      -2.22087997       0.00000000\r\n",
      "Pd     -2.13750904      -0.23784341       0.00000000\r\n",
      "H      -2.80956968      -2.49954731       0.00000000\r\n",
      "H      -1.26528821      -2.62993236       0.8956767\r\n",
      "H      -1.26528821      -2.62993236      -0.895676\r\n",
      "H      -0.75509932      -0.88569836       0.00000000\r\n",
      "\r\n",
      "\r\n",
      "\r\n",
      "\r\n",
      "P: Fe-II(CO)4 + CH4\r\n",
      "C      -2.10134690      -2.41901732       0.1862099\r\n",
      "Pd      -2.73145901      -0.57025833       0.419766\r\n",
      "H      -3.88639130      -1.04648079      -0.43099501\r\n",
      "H      -2.78392696      -3.12497645       0.66994616\r\n",
      "H      -1.97386865      -2.66955518      -0.87144525\r\n",
      "H      -1.12556673      -2.41201402       0.698583\r\n",
      "\r\n",
      "\r\n",
      "\r\n",
      "Geometrycoor END\r\n"
     ]
    }
   ],
   "source": [
    "%cat job.in"
   ]
  },
  {
   "cell_type": "markdown",
   "metadata": {},
   "source": [
    "Explanation of input option!"
   ]
  },
  {
   "cell_type": "markdown",
   "metadata": {},
   "source": [
    "```python\n",
    "\n",
    "''''\n",
    "JOBSUB section is for the information passed to the remote host machine \n",
    "where the heavy computatonal job is done! It is written in the fashion of Slurm.\n",
    "''''\n",
    "JOBSUB\n",
    "\n",
    "#!/bin/bash\n",
    "#SBATCH -J frag_1\n",
    "#SBATCH -N 1\n",
    "#SBATCH -t 50:00\n",
    "#SBATCH --ntasks-per-node=24\n",
    "#SBATCH --partition=short\n",
    "#SBATCH --output=%job.stdout\n",
    "#SBATCH --error=%job.stdout\n",
    "export NSCM=24\n",
    "\n",
    "JOBSUB END\n",
    "\n",
    "''''\n",
    "Provide the parameters for a DFT calculation using ADF software.\n",
    "''''\n",
    "ADF\n",
    "\n",
    "basis\n",
    "type TZ2P\n",
    "core Small\n",
    "end\n",
    "\n",
    "xc\n",
    "gga OPBE\n",
    "end\n",
    "\n",
    "relativistic SCALAR ZORA\n",
    "\n",
    "scf\n",
    "iterations 299\n",
    "converge 0.00001\n",
    "mixing 0.20\n",
    "end\n",
    "\n",
    "numericalquality verygood\n",
    "\n",
    "charge 0 0\n",
    "symmetry auto\n",
    "\n",
    "\n",
    "ADF END\n",
    "\n",
    "''''\n",
    "Provide the parameters for an activation strain analysis.\n",
    "''''\n",
    "\n",
    "PyFrag\n",
    "\n",
    "fragment  2\n",
    "fragment  1 3 4 5 6\n",
    "strain    0\n",
    "strain   -554.09\n",
    "bondlength 1 6  1.09\n",
    "\n",
    "PyFrag END\n",
    "\n",
    "\n",
    "''''\n",
    "Guseed geometry coordinate for reactent1, reactent2, reactent complex,\n",
    "transition state and product.\n",
    "''''\n",
    "\n",
    "Geometrycoor\n",
    "\n",
    "R1: Fe-II(CO)4 + CH4\n",
    "Pd       0.00000000       0.00000000       0.32205546\n",
    "\n",
    "\n",
    "\n",
    "R2: CH4\n",
    "C       0.00000000       0.00000000      -1.93543634\n",
    "H      -0.96181082       0.00000000      -1.33610429\n",
    "H       0.00000000      -0.90063254      -2.55201285\n",
    "H       0.00000000       0.90063254      -2.55201285\n",
    "H       0.96181082       0.00000000      -1.33610429\n",
    "\n",
    "\n",
    "\n",
    "\n",
    "RC: Fe-II(CO)4 + CH4\n",
    "C       0.00000000       0.00000000      -1.93543615\n",
    "Pd       0.00000000       0.00000000       0.322055\n",
    "H      -0.96181082       0.00000000      -1.33610429\n",
    "H       0.00000000      -0.90063254      -2.55201285\n",
    "H       0.00000000       0.90063254      -2.55201285\n",
    "H       0.96181082       0.00000000      -1.33610429\n",
    "\n",
    "\n",
    "\n",
    "TS: Fe-II(CO)4 + CH4\n",
    "C      -1.74196777      -2.22087997       0.00000000\n",
    "Pd     -2.13750904      -0.23784341       0.00000000\n",
    "H      -2.80956968      -2.49954731       0.00000000\n",
    "H      -1.26528821      -2.62993236       0.8956767\n",
    "H      -1.26528821      -2.62993236      -0.895676\n",
    "H      -0.75509932      -0.88569836       0.00000000\n",
    "\n",
    "\n",
    "\n",
    "\n",
    "P: Fe-II(CO)4 + CH4\n",
    "C      -2.10134690      -2.41901732       0.1862099\n",
    "Pd      -2.73145901      -0.57025833       0.419766\n",
    "H      -3.88639130      -1.04648079      -0.43099501\n",
    "H      -2.78392696      -3.12497645       0.66994616\n",
    "H      -1.97386865      -2.66955518      -0.87144525\n",
    "H      -1.12556673      -2.41201402       0.698583\n",
    "\n",
    "\n",
    "\n",
    "Geometrycoor END\n",
    "```"
   ]
  },
  {
   "cell_type": "markdown",
   "metadata": {},
   "source": [
    "## Job start\n",
    "PyFrag has several commands, which are explained by running `pyfrag -h` "
   ]
  },
  {
   "cell_type": "code",
   "execution_count": 9,
   "metadata": {
    "scrolled": false
   },
   "outputs": [
    {
     "name": "stdout",
     "output_type": "stream",
     "text": [
      "Usage: /Users/xiaobo/gitpyfrag/bin/pyfrag [-h] [-s] [-x command]  [...]\r\n",
      " \r\n",
      "       -h          : print this information\r\n",
      "       -s          : run job quietly\r\n",
      "       -x command  : start the executable named command\r\n",
      "                   : command include restart, which restart job\r\n",
      "                   : end, which terminate job\r\n",
      "                   : check, which check the latest jobs information\r\n",
      "                   : restart, which restart a job after it is stoped\r\n",
      "                   : summary, which summarize all job result after jobs finished\r\n",
      "                   : default command is pyfrag itself\r\n",
      "The example command is like as follow, in which job.in is job input\r\n",
      "/Users/xiaobo/gitpyfrag/bin/pyfrag job.in\r\n",
      "or\r\n",
      "/Users/xiaobo/gitpyfrag/bin/pyfrag -x restart job.in\r\n",
      "or\r\n",
      "/Users/xiaobo/gitpyfrag/bin/pyfrag -s -x summary job.in\r\n"
     ]
    }
   ],
   "source": [
    "!pyfrag -h"
   ]
  },
  {
   "cell_type": "markdown",
   "metadata": {},
   "source": [
    "### The basics: calling packages\n",
    "To run a job quietly, that is, job runs in the background, add -s flag, or it will print the latest information\n",
    "\n",
    "* **end**\n",
    "> To terminate a job.\n",
    "* **restart**\n",
    "> To restart a job provided a job is not running.\n",
    "* **check**\n",
    "> Check the latest job information provided a job is running.\n",
    "* **summary**\n",
    "> Summary all job information provided a job is finished."
   ]
  }
 ],
 "metadata": {
  "anaconda-cloud": {},
  "kernelspec": {
   "display_name": "Python 3",
   "language": "python",
   "name": "python3"
  },
  "language_info": {
   "codemirror_mode": {
    "name": "ipython",
    "version": 3
   },
   "file_extension": ".py",
   "mimetype": "text/x-python",
   "name": "python",
   "nbconvert_exporter": "python",
   "pygments_lexer": "ipython3",
   "version": "3.5.6"
  }
 },
 "nbformat": 4,
 "nbformat_minor": 1
}
