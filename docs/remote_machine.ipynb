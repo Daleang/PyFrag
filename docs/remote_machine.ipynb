{
 "cells": [
  {
   "cell_type": "markdown",
   "metadata": {},
   "source": [
    "## Installation in Unix\n",
    "\n",
    "  - conda installation. Type in your console the following command:   \n",
    "    ```bash\n",
    "     wget https://repo.continuum.io/miniconda/Miniconda3-latest-Linux-x86_64.sh -O miniconda.sh\n",
    "    ```\n",
    "\n",
    "  - Then add miniconda to your path\n",
    "    ```bash\n",
    "     ./miniconda.sh -b -p $HOME/miniconda\n",
    "    ```\n",
    "\n",
    "  - Create new virtual environment\n",
    "    ```bash\n",
    "     conda create -q -n qmflows python=3.5\n",
    "    ```\n",
    "\n",
    "  - Install dependecies\n",
    "    ```bash \n",
    "     conda install --name qmflows -c anaconda hdf5\n",
    "     conda install --name qmflows -c https://conda.anaconda.org/rdkit rdkit\n",
    "    ```\n",
    "\n",
    "  - Start environment\n",
    "    ```bash\n",
    "     source activate qmflows\n",
    "    ```\n",
    "\n",
    "  - install **qmflows** dependencies\n",
    "    ```bash\n",
    "     pip install https://github.com/SCM-NV/qmflows/tarball/master#egg=qmflows https://github.com/SCM-NV/plams/tarball/master#egg=plams --upgrade\n",
    "    ```\n",
    "### You are ready to start!  "
   ]
  },
  {
   "cell_type": "markdown",
   "metadata": {},
   "source": [
    "## Starting the environment\n",
    "Once *QMflows*  has been installed the user should run the following command to initialize the environment:"
   ]
  },
  {
   "cell_type": "markdown",
   "metadata": {},
   "source": [
    "```bash\n",
    "[user@int1 ~]$ source activate qmflows\n",
    "discarding /home/user/anaconda3/bin from PATH\n",
    "prepending /home/user/anaconda3/envs/qmflows/bin to PATH\n",
    "(qmflows)[user@int1 ~]$ python --version\n",
    "Python 3.5.2 :: Anaconda custom (64-bit)\n",
    "```"
   ]
  }
 ],
 "metadata": {
  "anaconda-cloud": {},
  "kernelspec": {
   "display_name": "Python 3",
   "language": "python",
   "name": "python3"
  },
  "language_info": {
   "codemirror_mode": {
    "name": "ipython",
    "version": 3
   },
   "file_extension": ".py",
   "mimetype": "text/x-python",
   "name": "python",
   "nbconvert_exporter": "python",
   "pygments_lexer": "ipython3",
   "version": "3.5.6"
  }
 },
 "nbformat": 4,
 "nbformat_minor": 1
}
